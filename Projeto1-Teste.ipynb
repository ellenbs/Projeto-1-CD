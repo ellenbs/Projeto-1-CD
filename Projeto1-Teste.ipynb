{
 "cells": [
  {
   "cell_type": "markdown",
   "metadata": {},
   "source": [
    "# PROJETO 1 - Ciência dos Dados\n",
    " ## Ellen Beatriz Shen | 2B Engenharia"
   ]
  },
  {
   "cell_type": "markdown",
   "metadata": {},
   "source": [
    " ___"
   ]
  },
  {
   "cell_type": "markdown",
   "metadata": {},
   "source": [
    "## Perguntas a serem respondidas:\n",
    "\n",
    "**Pergunta 1:** É possível constatar que o \"PIB per capita\" de Portugal, em relação a países similares a ele, foi aumentado ao entrar na União Europeia? Podemos dizer que ocorreu uma evolução relativa melhor?\n"
   ]
  },
  {
   "cell_type": "markdown",
   "metadata": {},
   "source": [
    "## Explicação da hipótese e mecanismo"
   ]
  },
  {
   "cell_type": "markdown",
   "metadata": {},
   "source": [
    "A **União Europeia** é um bloco econômico e político constituido por 28 países europeus. Seus objetivos são ajudar os países-membros no seu desenvolvimento econômico, dar mais igualdade política e econômica à Europa, melhorar as condições econômicas e de trabalho dos cidadãos europeus, reduzir as desigualdades econômicas e sociais entre todas as regiões que compõem o bloco, garantir a permanência de um ambiente pacífico e harmonioso em toda a Europa. Suas características são livre circulação das pessoas pelos Estados-membros, livre circulação de mercadorias entre os Estados-membros, integração política, adoção de uma moeda única, o Euro.\n",
    "\n",
    "- Como um dos objetivos principais da UE é o desenvolvimento econômico de seus países-membros, a hipótese busca comparar os dados de países pertencentes e não pertencentes a este bloco econômico. A análise vai ser baseada em um grupo de países que são economicamente similares, e que somente alguns entraram para a UE. Assim podemos utilizar variáveis como o 'PIB per capita' ao longo dos anos para a comparação."
   ]
  },
  {
   "cell_type": "markdown",
   "metadata": {},
   "source": [
    "## Bases de dados utilizadas\n",
    "\n",
    "- dados retirados de https://www.gapminder.org/data/\n"
   ]
  },
  {
   "cell_type": "markdown",
   "metadata": {},
   "source": [
    "___"
   ]
  },
  {
   "cell_type": "markdown",
   "metadata": {},
   "source": [
    "## Análise dos Dados "
   ]
  },
  {
   "cell_type": "code",
   "execution_count": 1,
   "metadata": {},
   "outputs": [],
   "source": [
    "%matplotlib inline\n",
    "import pandas as pd\n",
    "import matplotlib.pyplot as plt\n",
    "import numpy as np"
   ]
  },
  {
   "cell_type": "code",
   "execution_count": 29,
   "metadata": {},
   "outputs": [],
   "source": [
    "#Leitura dos Dados\n",
    "dados_PIB = pd.read_excel('gdp_per_capita_yearly_growth.xlsx')\n",
    "dados_renda = pd.read_excel('income_per_person_gdppercapita_ppp_inflation_adjusted.xlsx')\n",
    "dados_mundo = pd.read_excel('WorldBank.xlsx')"
   ]
  },
  {
   "cell_type": "code",
   "execution_count": 35,
   "metadata": {},
   "outputs": [
    {
     "data": {
      "text/html": [
       "<div>\n",
       "<style scoped>\n",
       "    .dataframe tbody tr th:only-of-type {\n",
       "        vertical-align: middle;\n",
       "    }\n",
       "\n",
       "    .dataframe tbody tr th {\n",
       "        vertical-align: top;\n",
       "    }\n",
       "\n",
       "    .dataframe thead th {\n",
       "        text-align: right;\n",
       "    }\n",
       "</style>\n",
       "<table border=\"1\" class=\"dataframe\">\n",
       "  <thead>\n",
       "    <tr style=\"text-align: right;\">\n",
       "      <th></th>\n",
       "      <th>region</th>\n",
       "    </tr>\n",
       "    <tr>\n",
       "      <th>Country</th>\n",
       "      <th></th>\n",
       "    </tr>\n",
       "  </thead>\n",
       "  <tbody>\n",
       "    <tr>\n",
       "      <th>Albania</th>\n",
       "      <td>europe_east</td>\n",
       "    </tr>\n",
       "    <tr>\n",
       "      <th>Armenia</th>\n",
       "      <td>europe_east</td>\n",
       "    </tr>\n",
       "    <tr>\n",
       "      <th>Austria</th>\n",
       "      <td>europe_west</td>\n",
       "    </tr>\n",
       "    <tr>\n",
       "      <th>Azerbaijan</th>\n",
       "      <td>europe_east</td>\n",
       "    </tr>\n",
       "    <tr>\n",
       "      <th>Belarus</th>\n",
       "      <td>europe_east</td>\n",
       "    </tr>\n",
       "    <tr>\n",
       "      <th>Belgium</th>\n",
       "      <td>europe_west</td>\n",
       "    </tr>\n",
       "    <tr>\n",
       "      <th>Bosnia and Herzegovina</th>\n",
       "      <td>europe_east</td>\n",
       "    </tr>\n",
       "    <tr>\n",
       "      <th>Bulgaria</th>\n",
       "      <td>europe_east</td>\n",
       "    </tr>\n",
       "    <tr>\n",
       "      <th>Croatia</th>\n",
       "      <td>europe_east</td>\n",
       "    </tr>\n",
       "    <tr>\n",
       "      <th>Cyprus</th>\n",
       "      <td>europe_west</td>\n",
       "    </tr>\n",
       "    <tr>\n",
       "      <th>Denmark</th>\n",
       "      <td>europe_west</td>\n",
       "    </tr>\n",
       "    <tr>\n",
       "      <th>Estonia</th>\n",
       "      <td>europe_east</td>\n",
       "    </tr>\n",
       "    <tr>\n",
       "      <th>Finland</th>\n",
       "      <td>europe_east</td>\n",
       "    </tr>\n",
       "    <tr>\n",
       "      <th>France</th>\n",
       "      <td>europe_west</td>\n",
       "    </tr>\n",
       "    <tr>\n",
       "      <th>Georgia</th>\n",
       "      <td>europe_east</td>\n",
       "    </tr>\n",
       "    <tr>\n",
       "      <th>Germany</th>\n",
       "      <td>europe_west</td>\n",
       "    </tr>\n",
       "    <tr>\n",
       "      <th>Greece</th>\n",
       "      <td>europe_west</td>\n",
       "    </tr>\n",
       "    <tr>\n",
       "      <th>Hungary</th>\n",
       "      <td>europe_east</td>\n",
       "    </tr>\n",
       "    <tr>\n",
       "      <th>Iceland</th>\n",
       "      <td>europe_west</td>\n",
       "    </tr>\n",
       "    <tr>\n",
       "      <th>Ireland</th>\n",
       "      <td>europe_west</td>\n",
       "    </tr>\n",
       "    <tr>\n",
       "      <th>Italy</th>\n",
       "      <td>europe_west</td>\n",
       "    </tr>\n",
       "    <tr>\n",
       "      <th>Latvia</th>\n",
       "      <td>europe_east</td>\n",
       "    </tr>\n",
       "    <tr>\n",
       "      <th>Lithuania</th>\n",
       "      <td>europe_east</td>\n",
       "    </tr>\n",
       "    <tr>\n",
       "      <th>Luxembourg</th>\n",
       "      <td>europe_west</td>\n",
       "    </tr>\n",
       "    <tr>\n",
       "      <th>Macedonia, FYR</th>\n",
       "      <td>europe_east</td>\n",
       "    </tr>\n",
       "    <tr>\n",
       "      <th>Malta</th>\n",
       "      <td>europe_west</td>\n",
       "    </tr>\n",
       "    <tr>\n",
       "      <th>Moldova</th>\n",
       "      <td>europe_east</td>\n",
       "    </tr>\n",
       "    <tr>\n",
       "      <th>Montenegro</th>\n",
       "      <td>europe_east</td>\n",
       "    </tr>\n",
       "    <tr>\n",
       "      <th>Netherlands</th>\n",
       "      <td>europe_west</td>\n",
       "    </tr>\n",
       "    <tr>\n",
       "      <th>Norway</th>\n",
       "      <td>europe_west</td>\n",
       "    </tr>\n",
       "    <tr>\n",
       "      <th>Poland</th>\n",
       "      <td>europe_west</td>\n",
       "    </tr>\n",
       "    <tr>\n",
       "      <th>Portugal</th>\n",
       "      <td>europe_west</td>\n",
       "    </tr>\n",
       "    <tr>\n",
       "      <th>Romania</th>\n",
       "      <td>europe_east</td>\n",
       "    </tr>\n",
       "    <tr>\n",
       "      <th>Russia</th>\n",
       "      <td>europe_east</td>\n",
       "    </tr>\n",
       "    <tr>\n",
       "      <th>Serbia</th>\n",
       "      <td>europe_east</td>\n",
       "    </tr>\n",
       "    <tr>\n",
       "      <th>Slovak Republic</th>\n",
       "      <td>europe_east</td>\n",
       "    </tr>\n",
       "    <tr>\n",
       "      <th>Slovenia</th>\n",
       "      <td>europe_east</td>\n",
       "    </tr>\n",
       "    <tr>\n",
       "      <th>Spain</th>\n",
       "      <td>europe_west</td>\n",
       "    </tr>\n",
       "    <tr>\n",
       "      <th>Sweden</th>\n",
       "      <td>europe_west</td>\n",
       "    </tr>\n",
       "    <tr>\n",
       "      <th>Switzerland</th>\n",
       "      <td>europe_west</td>\n",
       "    </tr>\n",
       "    <tr>\n",
       "      <th>Turkey</th>\n",
       "      <td>europe_east</td>\n",
       "    </tr>\n",
       "    <tr>\n",
       "      <th>Ukraine</th>\n",
       "      <td>europe_east</td>\n",
       "    </tr>\n",
       "    <tr>\n",
       "      <th>United Kingdom</th>\n",
       "      <td>europe_west</td>\n",
       "    </tr>\n",
       "  </tbody>\n",
       "</table>\n",
       "</div>"
      ],
      "text/plain": [
       "                             region\n",
       "Country                            \n",
       "Albania                 europe_east\n",
       "Armenia                 europe_east\n",
       "Austria                 europe_west\n",
       "Azerbaijan              europe_east\n",
       "Belarus                 europe_east\n",
       "Belgium                 europe_west\n",
       "Bosnia and Herzegovina  europe_east\n",
       "Bulgaria                europe_east\n",
       "Croatia                 europe_east\n",
       "Cyprus                  europe_west\n",
       "Denmark                 europe_west\n",
       "Estonia                 europe_east\n",
       "Finland                 europe_east\n",
       "France                  europe_west\n",
       "Georgia                 europe_east\n",
       "Germany                 europe_west\n",
       "Greece                  europe_west\n",
       "Hungary                 europe_east\n",
       "Iceland                 europe_west\n",
       "Ireland                 europe_west\n",
       "Italy                   europe_west\n",
       "Latvia                  europe_east\n",
       "Lithuania               europe_east\n",
       "Luxembourg              europe_west\n",
       "Macedonia, FYR          europe_east\n",
       "Malta                   europe_west\n",
       "Moldova                 europe_east\n",
       "Montenegro              europe_east\n",
       "Netherlands             europe_west\n",
       "Norway                  europe_west\n",
       "Poland                  europe_west\n",
       "Portugal                europe_west\n",
       "Romania                 europe_east\n",
       "Russia                  europe_east\n",
       "Serbia                  europe_east\n",
       "Slovak Republic         europe_east\n",
       "Slovenia                europe_east\n",
       "Spain                   europe_west\n",
       "Sweden                  europe_west\n",
       "Switzerland             europe_west\n",
       "Turkey                  europe_east\n",
       "Ukraine                 europe_east\n",
       "United Kingdom          europe_west"
      ]
     },
     "execution_count": 35,
     "metadata": {},
     "output_type": "execute_result"
    }
   ],
   "source": [
    "dados_regiao = dados_mundo.loc[:,[\"Country\",\"region\"]]\n",
    "dataframe_regiao = dados_regiao.set_index(\"Country\")\n",
    "europa = dataframe_regiao.loc[(dataframe_regiao.region=='europe_west') | (dataframe_regiao.region=='europe_east'),:]\n",
    "europa"
   ]
  },
  {
   "cell_type": "markdown",
   "metadata": {},
   "source": [
    "### PIB"
   ]
  },
  {
   "cell_type": "code",
   "execution_count": 3,
   "metadata": {},
   "outputs": [],
   "source": [
    "#Filtração do PIB para cada país.\n",
    "PIB_portugal = dados_PIB.loc[dados_PIB.country==\"Portugal\",:]\n",
    "PIB_eslovaquia = dados_PIB.loc[dados_PIB.country==\"Slovak Republic\",:]\n",
    "PIB_lituania = dados_PIB.loc[dados_PIB.country==\"Lithuania\",:]"
   ]
  },
  {
   "cell_type": "markdown",
   "metadata": {},
   "source": [
    "### Renda"
   ]
  },
  {
   "cell_type": "code",
   "execution_count": 4,
   "metadata": {},
   "outputs": [],
   "source": [
    "#Filtraçào da Renda de cada país\n",
    "renda_portugal = dados_renda.loc[dados_renda.country==\"Portugal\",:]\n",
    "renda_eslovaquia = dados_renda.loc[dados_renda.country==\"Slovak Republic\",:]\n",
    "renda_lituania = dados_renda.loc[dados_renda.country==\"Lithuania\",:]"
   ]
  },
  {
   "cell_type": "markdown",
   "metadata": {},
   "source": [
    "### Junção do PIB e Renda"
   ]
  },
  {
   "cell_type": "markdown",
   "metadata": {},
   "source": [
    "Para começar a análise, comecei filtrando os anos de 1986 e 1987 das variáveis de \"PIB per capita\" e \"renda\" de 3 países situados na europa e economicamente parecidos. E ao fazer uma junçào desses dados, podemos observar que 1 ano após a entrada de Portugal para a UE há um aumento significante em comparaçao aos outros países."
   ]
  },
  {
   "cell_type": "code",
   "execution_count": 5,
   "metadata": {},
   "outputs": [],
   "source": [
    "#PIB\n",
    "PIB_1986_1987 = dados_PIB.loc[:,[\"country\",1986,1987]]\n",
    "PIB_idx = PIB_1986_1987.set_index(\"country\")\n",
    "\n",
    "#Renda\n",
    "renda_1986 = dados_renda.loc[:,[\"country\",1986,1987]]\n",
    "renda_idx = dados_renda.set_index(\"country\")\n",
    "\n",
    "#Dataframe de 1986 e 1987\n",
    "dataframe_1986_1987 = PIB_idx.join(renda_idx, how='inner', lsuffix='_PIB', rsuffix='_Renda')"
   ]
  },
  {
   "cell_type": "code",
   "execution_count": 6,
   "metadata": {},
   "outputs": [
    {
     "data": {
      "text/html": [
       "<div>\n",
       "<style scoped>\n",
       "    .dataframe tbody tr th:only-of-type {\n",
       "        vertical-align: middle;\n",
       "    }\n",
       "\n",
       "    .dataframe tbody tr th {\n",
       "        vertical-align: top;\n",
       "    }\n",
       "\n",
       "    .dataframe thead th {\n",
       "        text-align: right;\n",
       "    }\n",
       "</style>\n",
       "<table border=\"1\" class=\"dataframe\">\n",
       "  <thead>\n",
       "    <tr style=\"text-align: right;\">\n",
       "      <th></th>\n",
       "      <th>1986_PIB</th>\n",
       "      <th>1987_PIB</th>\n",
       "    </tr>\n",
       "    <tr>\n",
       "      <th>country</th>\n",
       "      <th></th>\n",
       "      <th></th>\n",
       "    </tr>\n",
       "  </thead>\n",
       "  <tbody>\n",
       "    <tr>\n",
       "      <th>Portugal</th>\n",
       "      <td>4.03</td>\n",
       "      <td>6.300</td>\n",
       "    </tr>\n",
       "    <tr>\n",
       "      <th>Slovak Republic</th>\n",
       "      <td>1.67</td>\n",
       "      <td>0.311</td>\n",
       "    </tr>\n",
       "    <tr>\n",
       "      <th>Lithuania</th>\n",
       "      <td>3.21</td>\n",
       "      <td>0.442</td>\n",
       "    </tr>\n",
       "  </tbody>\n",
       "</table>\n",
       "</div>"
      ],
      "text/plain": [
       "                 1986_PIB  1987_PIB\n",
       "country                            \n",
       "Portugal             4.03     6.300\n",
       "Slovak Republic      1.67     0.311\n",
       "Lithuania            3.21     0.442"
      ]
     },
     "execution_count": 6,
     "metadata": {},
     "output_type": "execute_result"
    }
   ],
   "source": [
    "dataframe_PIB = dataframe_1986_1987.loc[[\"Portugal\",\"Slovak Republic\",\"Lithuania\"],[\"1986_PIB\",\"1987_PIB\"]]\n",
    "dataframe_PIB"
   ]
  },
  {
   "cell_type": "code",
   "execution_count": 7,
   "metadata": {},
   "outputs": [
    {
     "data": {
      "text/html": [
       "<div>\n",
       "<style scoped>\n",
       "    .dataframe tbody tr th:only-of-type {\n",
       "        vertical-align: middle;\n",
       "    }\n",
       "\n",
       "    .dataframe tbody tr th {\n",
       "        vertical-align: top;\n",
       "    }\n",
       "\n",
       "    .dataframe thead th {\n",
       "        text-align: right;\n",
       "    }\n",
       "</style>\n",
       "<table border=\"1\" class=\"dataframe\">\n",
       "  <thead>\n",
       "    <tr style=\"text-align: right;\">\n",
       "      <th></th>\n",
       "      <th>1986_Renda</th>\n",
       "      <th>1987_Renda</th>\n",
       "    </tr>\n",
       "    <tr>\n",
       "      <th>country</th>\n",
       "      <th></th>\n",
       "      <th></th>\n",
       "    </tr>\n",
       "  </thead>\n",
       "  <tbody>\n",
       "    <tr>\n",
       "      <th>Portugal</th>\n",
       "      <td>16100</td>\n",
       "      <td>17100</td>\n",
       "    </tr>\n",
       "    <tr>\n",
       "      <th>Slovak Republic</th>\n",
       "      <td>14700</td>\n",
       "      <td>14700</td>\n",
       "    </tr>\n",
       "    <tr>\n",
       "      <th>Lithuania</th>\n",
       "      <td>15800</td>\n",
       "      <td>15900</td>\n",
       "    </tr>\n",
       "  </tbody>\n",
       "</table>\n",
       "</div>"
      ],
      "text/plain": [
       "                 1986_Renda  1987_Renda\n",
       "country                                \n",
       "Portugal              16100       17100\n",
       "Slovak Republic       14700       14700\n",
       "Lithuania             15800       15900"
      ]
     },
     "execution_count": 7,
     "metadata": {},
     "output_type": "execute_result"
    }
   ],
   "source": [
    "dataframe_renda = dataframe_1986_1987.loc[[\"Portugal\",\"Slovak Republic\",\"Lithuania\"],[\"1986_Renda\",\"1987_Renda\"]]\n",
    "dataframe_renda"
   ]
  },
  {
   "cell_type": "markdown",
   "metadata": {},
   "source": [
    "Porém, para fazer uma melhor análise seria adequada uma base com mais anos antes e depois de sua entrada para a UE. Então devemos fazer um filtro desses dados para cada país, a fim de poder utilizar gráficos para melhor comparação."
   ]
  },
  {
   "cell_type": "code",
   "execution_count": 19,
   "metadata": {},
   "outputs": [
    {
     "data": {
      "text/plain": [
       "[<matplotlib.lines.Line2D at 0x11f50f940>]"
      ]
     },
     "execution_count": 19,
     "metadata": {},
     "output_type": "execute_result"
    },
    {
     "data": {
      "image/png": "[encoded data removed]",
      "text/plain": [
       "<Figure size 2160x720 with 1 Axes>"
      ]
     },
     "metadata": {
      "needs_background": "light"
     },
     "output_type": "display_data"
    }
   ],
   "source": [
    "#sabendo que o ano de 1986 é a coluna de índice 187, posso fazer um slice para filtrar os anos.\n",
    "\n",
    "#PIB\n",
    "PIB_portugal_antes = PIB_portugal.iloc[:,167:187]\n",
    "PIB_portugal_depois = PIB_portugal.iloc[:,187:207]\n",
    "\n",
    "#Renda\n",
    "renda_portugal_antes = renda_portugal.iloc[:,167:187]\n",
    "renda_portugal_depois = renda_portugal.iloc[:,187:207]\n",
    "\n",
    "#Visualização de como os dados ficam\n",
    "media_renda_port = renda_portugal_antes.mean()\n",
    "x = media_renda_port.index\n",
    "plt.figure(figsize=(30,10))\n",
    "plt.plot(x,media_renda_port)"
   ]
  },
  {
   "cell_type": "code",
   "execution_count": 20,
   "metadata": {},
   "outputs": [
    {
     "data": {
      "text/plain": [
       "[<matplotlib.lines.Line2D at 0x11f92b400>]"
      ]
     },
     "execution_count": 20,
     "metadata": {},
     "output_type": "execute_result"
    },
    {
     "data": {
      "image/png": "[encoded data removed]",
      "text/plain": [
       "<Figure size 2160x720 with 1 Axes>"
      ]
     },
     "metadata": {
      "needs_background": "light"
     },
     "output_type": "display_data"
    }
   ],
   "source": [
    "#PIB\n",
    "PIB_eslovaquia_antes = PIB_eslovaquia.iloc[:,167:187]\n",
    "PIB_eslovaquia_depois = PIB_eslovaquia.iloc[:,187:207]\n",
    "\n",
    "#Renda\n",
    "renda_eslovaquia_antes = renda_eslovaquia.iloc[:,167:187]\n",
    "renda_eslovaquia_depois = renda_eslovaquia.iloc[:,187:207]\n",
    "\n",
    "media_renda_eslovaquia = renda_eslovaquia_antes.mean()\n",
    "x1 = media_renda_eslovaquia.index\n",
    "plt.figure(figsize=(30,10))\n",
    "plt.plot(x1, media_renda_eslovaquia)"
   ]
  },
  {
   "cell_type": "code",
   "execution_count": 21,
   "metadata": {},
   "outputs": [
    {
     "data": {
      "text/plain": [
       "[<matplotlib.lines.Line2D at 0x11fcb2860>]"
      ]
     },
     "execution_count": 21,
     "metadata": {},
     "output_type": "execute_result"
    },
    {
     "data": {
      "image/png": "[encoded data removed]",
      "text/plain": [
       "<Figure size 2160x720 with 1 Axes>"
      ]
     },
     "metadata": {
      "needs_background": "light"
     },
     "output_type": "display_data"
    }
   ],
   "source": [
    "#PIB\n",
    "PIB_lituania_antes = PIB_lituania.iloc[:,167:187]\n",
    "PIB_lituania_depois = PIB_lituania.iloc[:,187:207]\n",
    "\n",
    "#Renda\n",
    "renda_lituania_antes = renda_lituania.iloc[:,167:187]\n",
    "renda_lituania_depois = renda_lituania.iloc[:,187:207]\n",
    "\n",
    "media_renda_lit = renda_lituania_antes.mean()\n",
    "x2 = media_renda_lit.index\n",
    "plt.figure(figsize=(30,10))\n",
    "plt.plot(x2, media_renda_lit)"
   ]
  },
  {
   "cell_type": "code",
   "execution_count": null,
   "metadata": {},
   "outputs": [],
   "source": []
  }
 ],
 "metadata": {
  "kernelspec": {
   "display_name": "Python 3",
   "language": "python",
   "name": "python3"
  },
  "language_info": {
   "codemirror_mode": {
    "name": "ipython",
    "version": 3
   },
   "file_extension": ".py",
   "mimetype": "text/x-python",
   "name": "python",
   "nbconvert_exporter": "python",
   "pygments_lexer": "ipython3",
   "version": "3.7.1"
  }
 },
 "nbformat": 4,
 "nbformat_minor": 2
}
