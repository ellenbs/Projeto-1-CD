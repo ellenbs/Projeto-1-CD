{
 "cells": [
  {
   "cell_type": "markdown",
   "metadata": {},
   "source": [
    "# PROJETO 1 - Ciência dos Dados\n",
    " ## Ellen Beatriz Shen | 2B Engenharia"
   ]
  },
  {
   "cell_type": "markdown",
   "metadata": {},
   "source": [
    " ___"
   ]
  },
  {
   "cell_type": "markdown",
   "metadata": {},
   "source": [
    "## Perguntas a serem respondidas:\n",
    "\n",
    "**Pergunta 1:** É possível constatar que o \"PIB per capita\" de Portugal, em relação a países similares a ele, foi aumentado ao entrar na União Europeia? Podemos dizer que ocorreu uma evolução relativa melhor?\n"
   ]
  },
  {
   "cell_type": "markdown",
   "metadata": {},
   "source": [
    "## Explicação da hipótese e mecanismo"
   ]
  },
  {
   "cell_type": "markdown",
   "metadata": {},
   "source": [
    "A **União Europeia** é um bloco econômico e político constituido por 28 países europeus. Seus objetivos são ajudar os países-membros no seu desenvolvimento econômico, dar mais igualdade política e econômica à Europa, melhorar as condições econômicas e de trabalho dos cidadãos europeus, reduzir as desigualdades econômicas e sociais entre todas as regiões que compõem o bloco, garantir a permanência de um ambiente pacífico e harmonioso em toda a Europa. Suas características são livre circulação das pessoas pelos Estados-membros, livre circulação de mercadorias entre os Estados-membros, integração política, adoção de uma moeda única, o Euro.\n",
    "\n",
    "- Como um dos objetivos principais da UE é o desenvolvimento econômico de seus países-membros, a hipótese busca comparar os dados de países pertencentes e não pertencentes a este bloco econômico. A análise vai ser baseada em um grupo de países que são economicamente similares, e que somente alguns entraram para a UE. Assim podemos utilizar variáveis como o 'PIB per capita' ao longo dos anos para a comparação."
   ]
  },
  {
   "cell_type": "markdown",
   "metadata": {},
   "source": [
    "## Bases de dados utilizadas\n",
    "\n",
    "- dados retirados de https://www.gapminder.org/data/\n"
   ]
  },
  {
   "cell_type": "markdown",
   "metadata": {},
   "source": [
    "___"
   ]
  },
  {
   "cell_type": "markdown",
   "metadata": {},
   "source": [
    "## Análise dos Dados "
   ]
  },
  {
   "cell_type": "code",
   "execution_count": 1,
   "metadata": {},
   "outputs": [],
   "source": [
    "%matplotlib inline\n",
    "import pandas as pd\n",
    "import matplotlib.pyplot as plt\n",
    "import numpy as np"
   ]
  },
  {
   "cell_type": "code",
   "execution_count": 29,
   "metadata": {},
   "outputs": [],
   "source": [
    "#Leitura dos Dados\n",
    "dados_PIB = pd.read_excel('gdp_per_capita_yearly_growth.xlsx')\n",
    "dados_renda = pd.read_excel('income_per_person_gdppercapita_ppp_inflation_adjusted.xlsx')"
   ]
  },
  {
   "cell_type": "markdown",
   "metadata": {},
   "source": [
    "### PIB"
   ]
  },
  {
   "cell_type": "code",
   "execution_count": 3,
   "metadata": {},
   "outputs": [],
   "source": [
    "#Filtração do PIB para cada país.\n",
    "PIB_portugal = dados_PIB.loc[dados_PIB.country==\"Portugal\",:]\n",
    "PIB_eslovaquia = dados_PIB.loc[dados_PIB.country==\"Slovak Republic\",:]\n",
    "PIB_lituania = dados_PIB.loc[dados_PIB.country==\"Lithuania\",:]"
   ]
  },
  {
   "cell_type": "markdown",
   "metadata": {},
   "source": [
    "### Renda"
   ]
  },
  {
   "cell_type": "code",
   "execution_count": 4,
   "metadata": {},
   "outputs": [],
   "source": [
    "#Filtraçào da Renda de cada país\n",
    "renda_portugal = dados_renda.loc[dados_renda.country==\"Portugal\",:]\n",
    "renda_eslovaquia = dados_renda.loc[dados_renda.country==\"Slovak Republic\",:]\n",
    "renda_lituania = dados_renda.loc[dados_renda.country==\"Lithuania\",:]"
   ]
  },
  {
   "cell_type": "markdown",
   "metadata": {},
   "source": [
    "### Junção do PIB e Renda"
   ]
  },
  {
   "cell_type": "markdown",
   "metadata": {},
   "source": [
    "Para começar a análise, comecei filtrando os anos de 1986 e 1987 das variáveis de \"PIB per capita\" e \"renda\" de 3 países situados na europa e economicamente parecidos. E ao fazer uma junçào desses dados, podemos observar que 1 ano após a entrada de Portugal para a UE há um aumento significante em comparaçao aos outros países."
   ]
  },
  {
   "cell_type": "code",
   "execution_count": 39,
   "metadata": {},
   "outputs": [],
   "source": [
    "#PIB\n",
    "PIB_1986_1987 = dados_PIB.loc[:,[\"country\",1986,1987]]\n",
    "PIB_idx = PIB_1986_1987.set_index(\"country\")\n",
    "\n",
    "#Renda\n",
    "renda_1986 = dados_renda.loc[:,[\"country\",1986,1987]]\n",
    "renda_idx = dados_renda.set_index(\"country\")\n",
    "\n",
    "#Dataframe de 1986 e 1987\n",
    "dataframe_1986_1987 = PIB_idx.join(renda_idx, how='inner', lsuffix='_PIB', rsuffix='_Renda')"
   ]
  },
  {
   "cell_type": "code",
   "execution_count": 40,
   "metadata": {},
   "outputs": [
    {
     "data": {
      "text/html": [
       "<div>\n",
       "<style scoped>\n",
       "    .dataframe tbody tr th:only-of-type {\n",
       "        vertical-align: middle;\n",
       "    }\n",
       "\n",
       "    .dataframe tbody tr th {\n",
       "        vertical-align: top;\n",
       "    }\n",
       "\n",
       "    .dataframe thead th {\n",
       "        text-align: right;\n",
       "    }\n",
       "</style>\n",
       "<table border=\"1\" class=\"dataframe\">\n",
       "  <thead>\n",
       "    <tr style=\"text-align: right;\">\n",
       "      <th></th>\n",
       "      <th>1986_PIB</th>\n",
       "      <th>1987_PIB</th>\n",
       "    </tr>\n",
       "    <tr>\n",
       "      <th>country</th>\n",
       "      <th></th>\n",
       "      <th></th>\n",
       "    </tr>\n",
       "  </thead>\n",
       "  <tbody>\n",
       "    <tr>\n",
       "      <th>Portugal</th>\n",
       "      <td>4.03</td>\n",
       "      <td>6.300</td>\n",
       "    </tr>\n",
       "    <tr>\n",
       "      <th>Slovak Republic</th>\n",
       "      <td>1.67</td>\n",
       "      <td>0.311</td>\n",
       "    </tr>\n",
       "    <tr>\n",
       "      <th>Lithuania</th>\n",
       "      <td>3.21</td>\n",
       "      <td>0.442</td>\n",
       "    </tr>\n",
       "  </tbody>\n",
       "</table>\n",
       "</div>"
      ],
      "text/plain": [
       "                 1986_PIB  1987_PIB\n",
       "country                            \n",
       "Portugal             4.03     6.300\n",
       "Slovak Republic      1.67     0.311\n",
       "Lithuania            3.21     0.442"
      ]
     },
     "execution_count": 40,
     "metadata": {},
     "output_type": "execute_result"
    }
   ],
   "source": [
    "dataframe_PIB = dataframe_1986_1987.loc[[\"Portugal\",\"Slovak Republic\",\"Lithuania\"],[\"1986_PIB\",\"1987_PIB\"]]\n",
    "dataframe_PIB"
   ]
  },
  {
   "cell_type": "code",
   "execution_count": 41,
   "metadata": {},
   "outputs": [
    {
     "data": {
      "text/html": [
       "<div>\n",
       "<style scoped>\n",
       "    .dataframe tbody tr th:only-of-type {\n",
       "        vertical-align: middle;\n",
       "    }\n",
       "\n",
       "    .dataframe tbody tr th {\n",
       "        vertical-align: top;\n",
       "    }\n",
       "\n",
       "    .dataframe thead th {\n",
       "        text-align: right;\n",
       "    }\n",
       "</style>\n",
       "<table border=\"1\" class=\"dataframe\">\n",
       "  <thead>\n",
       "    <tr style=\"text-align: right;\">\n",
       "      <th></th>\n",
       "      <th>1986_Renda</th>\n",
       "      <th>1987_Renda</th>\n",
       "    </tr>\n",
       "    <tr>\n",
       "      <th>country</th>\n",
       "      <th></th>\n",
       "      <th></th>\n",
       "    </tr>\n",
       "  </thead>\n",
       "  <tbody>\n",
       "    <tr>\n",
       "      <th>Portugal</th>\n",
       "      <td>16100</td>\n",
       "      <td>17100</td>\n",
       "    </tr>\n",
       "    <tr>\n",
       "      <th>Slovak Republic</th>\n",
       "      <td>14700</td>\n",
       "      <td>14700</td>\n",
       "    </tr>\n",
       "    <tr>\n",
       "      <th>Lithuania</th>\n",
       "      <td>15800</td>\n",
       "      <td>15900</td>\n",
       "    </tr>\n",
       "  </tbody>\n",
       "</table>\n",
       "</div>"
      ],
      "text/plain": [
       "                 1986_Renda  1987_Renda\n",
       "country                                \n",
       "Portugal              16100       17100\n",
       "Slovak Republic       14700       14700\n",
       "Lithuania             15800       15900"
      ]
     },
     "execution_count": 41,
     "metadata": {},
     "output_type": "execute_result"
    }
   ],
   "source": [
    "dataframe_renda = dataframe_1986_1987.loc[[\"Portugal\",\"Slovak Republic\",\"Lithuania\"],[\"1986_Renda\",\"1987_Renda\"]]\n",
    "dataframe_renda"
   ]
  },
  {
   "cell_type": "markdown",
   "metadata": {},
   "source": [
    "Porém, para fazer uma melhor análise seria adequada uma base com mais anos antes e depois de sua entrada para a UE. Então devemos fazer um filtro desses dados para cada país, a fim de poder utilizar gráficos para melhor comparação."
   ]
  },
  {
   "cell_type": "code",
   "execution_count": 62,
   "metadata": {},
   "outputs": [
    {
     "data": {
      "text/html": [
       "<div>\n",
       "<style scoped>\n",
       "    .dataframe tbody tr th:only-of-type {\n",
       "        vertical-align: middle;\n",
       "    }\n",
       "\n",
       "    .dataframe tbody tr th {\n",
       "        vertical-align: top;\n",
       "    }\n",
       "\n",
       "    .dataframe thead th {\n",
       "        text-align: right;\n",
       "    }\n",
       "</style>\n",
       "<table border=\"1\" class=\"dataframe\">\n",
       "  <thead>\n",
       "    <tr style=\"text-align: right;\">\n",
       "      <th></th>\n",
       "      <th>1967</th>\n",
       "      <th>1968</th>\n",
       "      <th>1969</th>\n",
       "      <th>1970</th>\n",
       "      <th>1971</th>\n",
       "      <th>1972</th>\n",
       "      <th>1973</th>\n",
       "      <th>1974</th>\n",
       "      <th>1975</th>\n",
       "      <th>1976</th>\n",
       "      <th>1977</th>\n",
       "      <th>1978</th>\n",
       "      <th>1979</th>\n",
       "      <th>1980</th>\n",
       "      <th>1981</th>\n",
       "      <th>1982</th>\n",
       "      <th>1983</th>\n",
       "      <th>1984</th>\n",
       "      <th>1985</th>\n",
       "      <th>1986</th>\n",
       "    </tr>\n",
       "  </thead>\n",
       "  <tbody>\n",
       "    <tr>\n",
       "      <th>138</th>\n",
       "      <td>7.62</td>\n",
       "      <td>8.75</td>\n",
       "      <td>2.32</td>\n",
       "      <td>9.75</td>\n",
       "      <td>7.27</td>\n",
       "      <td>8.26</td>\n",
       "      <td>11.1</td>\n",
       "      <td>-0.216</td>\n",
       "      <td>-7.53</td>\n",
       "      <td>4.56</td>\n",
       "      <td>5.16</td>\n",
       "      <td>2.43</td>\n",
       "      <td>5.36</td>\n",
       "      <td>4.02</td>\n",
       "      <td>0.873</td>\n",
       "      <td>2.04</td>\n",
       "      <td>-0.301</td>\n",
       "      <td>-2.01</td>\n",
       "      <td>2.69</td>\n",
       "      <td>4.03</td>\n",
       "    </tr>\n",
       "  </tbody>\n",
       "</table>\n",
       "</div>"
      ],
      "text/plain": [
       "     1967  1968  1969  1970  1971  1972  1973   1974  1975  1976  1977  1978  \\\n",
       "138  7.62  8.75  2.32  9.75  7.27  8.26  11.1 -0.216 -7.53  4.56  5.16  2.43   \n",
       "\n",
       "     1979  1980   1981  1982   1983  1984  1985  1986  \n",
       "138  5.36  4.02  0.873  2.04 -0.301 -2.01  2.69  4.03  "
      ]
     },
     "execution_count": 62,
     "metadata": {},
     "output_type": "execute_result"
    }
   ],
   "source": [
    "#sabendo que o ano de 1986 é a coluna de índice 187, posso fazer um slice para filtrar os anos.\n",
    "\n",
    "#PIB\n",
    "PIB_portugal_antes = PIB_portugal.iloc[:,167:187]\n",
    "PIB_portugal_depois = PIB_portugal.iloc[:,187:207]\n",
    "\n",
    "#Renda\n",
    "renda_portugal_antes = renda_portugal.iloc[:,167:187]\n",
    "renda_portugal_depois = renda_portugal.iloc[:,187:207]\n",
    "\n",
    "#Visualização de como os dados ficam\n",
    "PIB_portugal_antes"
   ]
  },
  {
   "cell_type": "code",
   "execution_count": 59,
   "metadata": {},
   "outputs": [],
   "source": [
    "#PIB\n",
    "PIB_eslovaquia_antes = PIB_eslovaquia.iloc[:,167:187]\n",
    "PIB_eslovaquia_depois = PIB_eslovaquia.iloc[:,187:207]\n",
    "\n",
    "#Renda\n",
    "renda_eslovaquia_antes = renda_eslovaquia.iloc[:,167:187]\n",
    "renda_eslovaquia_depois = renda_eslovaquia.iloc[:,187:207]"
   ]
  },
  {
   "cell_type": "code",
   "execution_count": 63,
   "metadata": {},
   "outputs": [],
   "source": [
    "#PIB\n",
    "PIB_lituania_antes = PIB_lituania.iloc[:,167:187]\n",
    "PIB_lituania_depois = PIB_lituania.iloc[:,187:207]\n",
    "\n",
    "#Renda\n",
    "renda_lituania_antes = renda_lituania.iloc[:,167:187]\n",
    "renda_lituania_depois = renda_lituania.iloc[:,187:207]\n"
   ]
  }
 ],
 "metadata": {
  "kernelspec": {
   "display_name": "Python 3",
   "language": "python",
   "name": "python3"
  },
  "language_info": {
   "codemirror_mode": {
    "name": "ipython",
    "version": 3
   },
   "file_extension": ".py",
   "mimetype": "text/x-python",
   "name": "python",
   "nbconvert_exporter": "python",
   "pygments_lexer": "ipython3",
   "version": "3.7.1"
  }
 },
 "nbformat": 4,
 "nbformat_minor": 2
}
